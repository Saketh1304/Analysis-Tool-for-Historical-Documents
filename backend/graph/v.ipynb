{
 "cells": [
  {
   "cell_type": "code",
   "execution_count": 1,
   "metadata": {},
   "outputs": [
    {
     "name": "stdout",
     "output_type": "stream",
     "text": [
      "Requirement already satisfied: neo4j in c:\\users\\saketh\\appdata\\local\\programs\\python\\python312\\lib\\site-packages (5.19.0)\n",
      "Requirement already satisfied: pytz in c:\\users\\saketh\\appdata\\local\\programs\\python\\python312\\lib\\site-packages (from neo4j) (2024.1)\n",
      "Note: you may need to restart the kernel to use updated packages.\n"
     ]
    }
   ],
   "source": [
    "pip install neo4j"
   ]
  },
  {
   "cell_type": "code",
   "execution_count": 2,
   "metadata": {},
   "outputs": [
    {
     "name": "stdout",
     "output_type": "stream",
     "text": [
      "Requirement already satisfied: pyvis in c:\\users\\saketh\\appdata\\local\\programs\\python\\python312\\lib\\site-packages (0.3.2)\n",
      "Requirement already satisfied: neo4j in c:\\users\\saketh\\appdata\\local\\programs\\python\\python312\\lib\\site-packages (5.19.0)\n",
      "Requirement already satisfied: ipython>=5.3.0 in c:\\users\\saketh\\appdata\\local\\programs\\python\\python312\\lib\\site-packages (from pyvis) (8.22.1)\n",
      "Requirement already satisfied: jinja2>=2.9.6 in c:\\users\\saketh\\appdata\\local\\programs\\python\\python312\\lib\\site-packages (from pyvis) (3.1.3)\n",
      "Requirement already satisfied: jsonpickle>=1.4.1 in c:\\users\\saketh\\appdata\\local\\programs\\python\\python312\\lib\\site-packages (from pyvis) (3.0.4)\n",
      "Requirement already satisfied: networkx>=1.11 in c:\\users\\saketh\\appdata\\local\\programs\\python\\python312\\lib\\site-packages (from pyvis) (3.2.1)\n",
      "Requirement already satisfied: pytz in c:\\users\\saketh\\appdata\\local\\programs\\python\\python312\\lib\\site-packages (from neo4j) (2024.1)\n",
      "Requirement already satisfied: decorator in c:\\users\\saketh\\appdata\\local\\programs\\python\\python312\\lib\\site-packages (from ipython>=5.3.0->pyvis) (5.1.1)\n",
      "Requirement already satisfied: jedi>=0.16 in c:\\users\\saketh\\appdata\\local\\programs\\python\\python312\\lib\\site-packages (from ipython>=5.3.0->pyvis) (0.19.1)\n",
      "Requirement already satisfied: matplotlib-inline in c:\\users\\saketh\\appdata\\local\\programs\\python\\python312\\lib\\site-packages (from ipython>=5.3.0->pyvis) (0.1.6)\n",
      "Requirement already satisfied: prompt-toolkit<3.1.0,>=3.0.41 in c:\\users\\saketh\\appdata\\local\\programs\\python\\python312\\lib\\site-packages (from ipython>=5.3.0->pyvis) (3.0.43)\n",
      "Requirement already satisfied: pygments>=2.4.0 in c:\\users\\saketh\\appdata\\local\\programs\\python\\python312\\lib\\site-packages (from ipython>=5.3.0->pyvis) (2.17.2)\n",
      "Requirement already satisfied: stack-data in c:\\users\\saketh\\appdata\\local\\programs\\python\\python312\\lib\\site-packages (from ipython>=5.3.0->pyvis) (0.6.3)\n",
      "Requirement already satisfied: traitlets>=5.13.0 in c:\\users\\saketh\\appdata\\local\\programs\\python\\python312\\lib\\site-packages (from ipython>=5.3.0->pyvis) (5.14.1)\n",
      "Requirement already satisfied: colorama in c:\\users\\saketh\\appdata\\local\\programs\\python\\python312\\lib\\site-packages (from ipython>=5.3.0->pyvis) (0.4.6)\n",
      "Requirement already satisfied: MarkupSafe>=2.0 in c:\\users\\saketh\\appdata\\local\\programs\\python\\python312\\lib\\site-packages (from jinja2>=2.9.6->pyvis) (2.1.5)\n",
      "Requirement already satisfied: parso<0.9.0,>=0.8.3 in c:\\users\\saketh\\appdata\\local\\programs\\python\\python312\\lib\\site-packages (from jedi>=0.16->ipython>=5.3.0->pyvis) (0.8.3)\n",
      "Requirement already satisfied: wcwidth in c:\\users\\saketh\\appdata\\local\\programs\\python\\python312\\lib\\site-packages (from prompt-toolkit<3.1.0,>=3.0.41->ipython>=5.3.0->pyvis) (0.2.13)\n",
      "Requirement already satisfied: executing>=1.2.0 in c:\\users\\saketh\\appdata\\local\\programs\\python\\python312\\lib\\site-packages (from stack-data->ipython>=5.3.0->pyvis) (2.0.1)\n",
      "Requirement already satisfied: asttokens>=2.1.0 in c:\\users\\saketh\\appdata\\local\\programs\\python\\python312\\lib\\site-packages (from stack-data->ipython>=5.3.0->pyvis) (2.4.1)\n",
      "Requirement already satisfied: pure-eval in c:\\users\\saketh\\appdata\\local\\programs\\python\\python312\\lib\\site-packages (from stack-data->ipython>=5.3.0->pyvis) (0.2.2)\n",
      "Requirement already satisfied: six>=1.12.0 in c:\\users\\saketh\\appdata\\local\\programs\\python\\python312\\lib\\site-packages (from asttokens>=2.1.0->stack-data->ipython>=5.3.0->pyvis) (1.16.0)\n",
      "Note: you may need to restart the kernel to use updated packages.\n"
     ]
    }
   ],
   "source": [
    "pip install pyvis neo4j\n"
   ]
  },
  {
   "cell_type": "code",
   "execution_count": 3,
   "metadata": {},
   "outputs": [
    {
     "name": "stdout",
     "output_type": "stream",
     "text": [
      "Graph visualization saved as 'graph.html'\n"
     ]
    }
   ],
   "source": [
    "from neo4j import GraphDatabase\n",
    "import pyvis.network as net\n",
    "\n",
    "def execute_query(uri, username, password, cypher_query):\n",
    "    with GraphDatabase.driver(uri, auth=(username, password)) as driver:\n",
    "        with driver.session() as session:\n",
    "            result = session.run(cypher_query)\n",
    "            return list(result)  # Fetch all records and convert to list\n",
    "\n",
    "def visualize_graph(result):\n",
    "    graph = net.Network()\n",
    "\n",
    "    # Add nodes and edges to the graph\n",
    "    for record in result:\n",
    "        start_node = record[\"n\"]\n",
    "        end_node = record[\"m\"]\n",
    "        relationship = record[\"r\"]\n",
    "        \n",
    "        # Add start node with label\n",
    "        start_node_label = f\"{start_node['title']} \"\n",
    "        graph.add_node(start_node.element_id, label=start_node_label)\n",
    "        \n",
    "        # Add end node with label\n",
    "        end_node_label = f\"{end_node['title']} \"\n",
    "        graph.add_node(end_node.element_id, label=end_node_label)\n",
    "        \n",
    "        # Add edge with label\n",
    "        edge_label = f\"{relationship['type']} \"\n",
    "        graph.add_edge(start_node.element_id, end_node.element_id, label=edge_label)\n",
    "    \n",
    "    # Generate HTML for the graph\n",
    "    html = graph.generate_html()\n",
    "    \n",
    "    # Check if HTML generation was successful\n",
    "    if html is not None:\n",
    "        with open(\"graph.html\", \"w\") as file:\n",
    "            file.write(html)\n",
    "        print(\"Graph visualization saved as 'graph.html'\")\n",
    "    else:\n",
    "        print(\"Failed to generate HTML for the graph\")\n",
    "\n",
    "uri = \"neo4j+s://b9f9e472.databases.neo4j.io\"\n",
    "username = \"neo4j\"\n",
    "password = \"kAynYI6ax95rVFpw4SaN07_-6L-maMqhuMN-baEfEM4\"\n",
    "\n",
    "cypher_query = \"MATCH (n)-[r]->(m) RETURN n, r, m LIMIT 100\"\n",
    "\n",
    "result = execute_query(uri, username, password, cypher_query)\n",
    "visualize_graph(result)"
   ]
  }
 ],
 "metadata": {
  "kernelspec": {
   "display_name": "Python 3",
   "language": "python",
   "name": "python3"
  },
  "language_info": {
   "codemirror_mode": {
    "name": "ipython",
    "version": 3
   },
   "file_extension": ".py",
   "mimetype": "text/x-python",
   "name": "python",
   "nbconvert_exporter": "python",
   "pygments_lexer": "ipython3",
   "version": "3.12.3"
  }
 },
 "nbformat": 4,
 "nbformat_minor": 2
}
